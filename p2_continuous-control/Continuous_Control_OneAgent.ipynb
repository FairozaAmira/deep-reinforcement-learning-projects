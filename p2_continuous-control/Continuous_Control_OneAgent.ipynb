{
 "cells": [
  {
   "cell_type": "markdown",
   "metadata": {},
   "source": [
    "# Continuous Control\n",
    "\n",
    "---\n",
    "\n",
    "You are welcome to use this coding environment to train your agent for the project.  Follow the instructions below to get started!\n",
    "\n",
    "### 1. Start the Environment\n",
    "\n",
    "Run the next code cell to install a few packages.  This line will take a few minutes to run!"
   ]
  },
  {
   "cell_type": "code",
   "execution_count": 1,
   "metadata": {
    "scrolled": true
   },
   "outputs": [
    {
     "name": "stdout",
     "output_type": "stream",
     "text": [
      "\u001b[31mtensorflow 1.7.1 has requirement numpy>=1.13.3, but you'll have numpy 1.12.1 which is incompatible.\u001b[0m\r\n",
      "\u001b[31mipython 6.5.0 has requirement prompt-toolkit<2.0.0,>=1.0.15, but you'll have prompt-toolkit 2.0.10 which is incompatible.\u001b[0m\r\n"
     ]
    }
   ],
   "source": [
    "!pip -q install ./python"
   ]
  },
  {
   "cell_type": "markdown",
   "metadata": {},
   "source": [
    "The environments corresponding to both versions of the environment are already saved in the Workspace and can be accessed at the file paths provided below.  \n",
    "\n",
    "Please select one of the two options below for loading the environment."
   ]
  },
  {
   "cell_type": "code",
   "execution_count": 2,
   "metadata": {},
   "outputs": [
    {
     "name": "stderr",
     "output_type": "stream",
     "text": [
      "INFO:unityagents:\n",
      "'Academy' started successfully!\n",
      "Unity Academy name: Academy\n",
      "        Number of Brains: 1\n",
      "        Number of External Brains : 1\n",
      "        Lesson number : 0\n",
      "        Reset Parameters :\n",
      "\t\tgoal_speed -> 1.0\n",
      "\t\tgoal_size -> 5.0\n",
      "Unity brain name: ReacherBrain\n",
      "        Number of Visual Observations (per agent): 0\n",
      "        Vector Observation space type: continuous\n",
      "        Vector Observation space size (per agent): 33\n",
      "        Number of stacked Vector Observation: 1\n",
      "        Vector Action space type: continuous\n",
      "        Vector Action space size (per agent): 4\n",
      "        Vector Action descriptions: , , , \n"
     ]
    }
   ],
   "source": [
    "from unityagents import UnityEnvironment\n",
    "import numpy as np\n",
    "\n",
    "# select this option to load version 1 (with a single agent) of the environment\n",
    "#env = UnityEnvironment(file_name='/data/Reacher_One_Linux_NoVis/Reacher_One_Linux_NoVis.x86_64')\n",
    "\n",
    "# select this option to load version 2 (with 20 agents) of the environment\n",
    "env = UnityEnvironment(file_name='/data/Reacher_Linux_NoVis/Reacher.x86_64')"
   ]
  },
  {
   "cell_type": "markdown",
   "metadata": {},
   "source": [
    "Environments contain **_brains_** which are responsible for deciding the actions of their associated agents. Here we check for the first brain available, and set it as the default brain we will be controlling from Python."
   ]
  },
  {
   "cell_type": "code",
   "execution_count": 3,
   "metadata": {},
   "outputs": [],
   "source": [
    "# get the default brain\n",
    "brain_name = env.brain_names[0]\n",
    "brain = env.brains[brain_name]"
   ]
  },
  {
   "cell_type": "markdown",
   "metadata": {},
   "source": [
    "### 2. Examine the State and Action Spaces\n",
    "\n",
    "Run the code cell below to print some information about the environment."
   ]
  },
  {
   "cell_type": "code",
   "execution_count": 4,
   "metadata": {},
   "outputs": [
    {
     "name": "stdout",
     "output_type": "stream",
     "text": [
      "Number of agents: 20\n",
      "Size of each action: 4\n",
      "There are 20 agents. Each observes a state with length: 33\n",
      "The state for the first agent looks like: [  0.00000000e+00  -4.00000000e+00   0.00000000e+00   1.00000000e+00\n",
      "  -0.00000000e+00  -0.00000000e+00  -4.37113883e-08   0.00000000e+00\n",
      "   0.00000000e+00   0.00000000e+00   0.00000000e+00   0.00000000e+00\n",
      "   0.00000000e+00   0.00000000e+00  -1.00000000e+01   0.00000000e+00\n",
      "   1.00000000e+00  -0.00000000e+00  -0.00000000e+00  -4.37113883e-08\n",
      "   0.00000000e+00   0.00000000e+00   0.00000000e+00   0.00000000e+00\n",
      "   0.00000000e+00   0.00000000e+00   5.75471878e+00  -1.00000000e+00\n",
      "   5.55726624e+00   0.00000000e+00   1.00000000e+00   0.00000000e+00\n",
      "  -1.68164849e-01]\n"
     ]
    }
   ],
   "source": [
    "# reset the environment\n",
    "env_info = env.reset(train_mode=True)[brain_name]\n",
    "\n",
    "# number of agents\n",
    "num_agents = len(env_info.agents)\n",
    "print('Number of agents:', num_agents)\n",
    "\n",
    "# size of each action\n",
    "action_size = brain.vector_action_space_size\n",
    "print('Size of each action:', action_size)\n",
    "\n",
    "# examine the state space \n",
    "states = env_info.vector_observations\n",
    "state_size = states.shape[1]\n",
    "print('There are {} agents. Each observes a state with length: {}'.format(states.shape[0], state_size))\n",
    "print('The state for the first agent looks like:', states[0])"
   ]
  },
  {
   "cell_type": "markdown",
   "metadata": {},
   "source": [
    "### 3. Take Random Actions in the Environment\n",
    "\n",
    "In the next code cell, you will learn how to use the Python API to control the agent and receive feedback from the environment.\n",
    "\n",
    "Note that **in this coding environment, you will not be able to watch the agents while they are training**, and you should set `train_mode=True` to restart the environment."
   ]
  },
  {
   "cell_type": "code",
   "execution_count": 5,
   "metadata": {},
   "outputs": [
    {
     "name": "stdout",
     "output_type": "stream",
     "text": [
      "Total score (averaged over agents) this episode: 0.13299999702721835\n"
     ]
    }
   ],
   "source": [
    "env_info = env.reset(train_mode=False)[brain_name]      # reset the environment    \n",
    "states = env_info.vector_observations                  # get the current state (for each agent)\n",
    "scores = np.zeros(num_agents)                          # initialize the score (for each agent)\n",
    "while True:\n",
    "    actions = np.random.randn(num_agents, action_size) # select an action (for each agent)\n",
    "    actions = np.clip(actions, -1, 1)                  # all actions between -1 and 1\n",
    "    env_info = env.step(actions)[brain_name]           # send all actions to tne environment\n",
    "    next_states = env_info.vector_observations         # get next state (for each agent)\n",
    "    rewards = env_info.rewards                         # get reward (for each agent)\n",
    "    dones = env_info.local_done                        # see if episode finished\n",
    "    scores += env_info.rewards                         # update the score (for each agent)\n",
    "    states = next_states                               # roll over states to next time step\n",
    "    if np.any(dones):                                  # exit loop if episode finished\n",
    "        break\n",
    "print('Total score (averaged over agents) this episode: {}'.format(np.mean(scores)))"
   ]
  },
  {
   "cell_type": "markdown",
   "metadata": {},
   "source": [
    "When finished, you can close the environment."
   ]
  },
  {
   "cell_type": "code",
   "execution_count": 6,
   "metadata": {},
   "outputs": [],
   "source": [
    "#env.close()"
   ]
  },
  {
   "cell_type": "markdown",
   "metadata": {},
   "source": [
    "### 4. It's Your Turn!\n",
    "\n",
    "Now it's your turn to train your own agent to solve the environment!  A few **important notes**:\n",
    "- When training the environment, set `train_mode=True`, so that the line for resetting the environment looks like the following:\n",
    "```python\n",
    "env_info = env.reset(train_mode=True)[brain_name]\n",
    "```\n",
    "- To structure your work, you're welcome to work directly in this Jupyter notebook, or you might like to start over with a new file!  You can see the list of files in the workspace by clicking on **_Jupyter_** in the top left corner of the notebook.\n",
    "- In this coding environment, you will not be able to watch the agents while they are training.  However, **_after training the agents_**, you can download the saved model weights to watch the agents on your own machine! "
   ]
  },
  {
   "cell_type": "code",
   "execution_count": 7,
   "metadata": {},
   "outputs": [],
   "source": [
    "from collections import deque\n",
    "import matplotlib.pyplot as plt\n",
    "import torch\n",
    "import time\n",
    "import random\n",
    "import ddpg_agent\n",
    "\n",
    "%matplotlib inline"
   ]
  },
  {
   "cell_type": "code",
   "execution_count": 8,
   "metadata": {},
   "outputs": [],
   "source": [
    "agents = ddpg_agent.DDPG_Agent(state_size=state_size, action_size=action_size, num_agents = num_agents, random_seed=0)\n",
    "n_episodes = 1000\n",
    "print_every = 20"
   ]
  },
  {
   "cell_type": "code",
   "execution_count": 9,
   "metadata": {},
   "outputs": [],
   "source": [
    "def ddpg(n_episodes=2000, max_t=1000):\n",
    "    scores_deque = deque(maxlen=100)\n",
    "    scores = []\n",
    "    for i_episode in range(1, n_episodes+1):\n",
    "        env_info = env.reset(train_mode=True)[brain_name]\n",
    "        state = env_info.vector_observations\n",
    "        agents.reset()\n",
    "        score = np.zeros(num_agents)\n",
    "        #print (state.shape)\n",
    "        for t in range(max_t):\n",
    "            action = agents.act(state)\n",
    "            #print (action)\n",
    "            #time.sleep(100)\n",
    "            env_info = env.step(action)[brain_name]\n",
    "            next_state = env_info.vector_observations\n",
    "            rewards = env_info.rewards\n",
    "            dones = env_info.local_done\n",
    "            #print (state.shape)\n",
    "            #print (rewards.shape)\n",
    "            agents.step(state, action, rewards, next_state, dones)\n",
    "            state = next_state\n",
    "            score += rewards\n",
    "            if np.any(dones):\n",
    "                print('\\tSteps: ', t)\n",
    "                break \n",
    "        scores_deque.append(np.mean(score))\n",
    "        scores.append(np.mean(score))\n",
    "        print('\\rEpisode {}\\tAverage Score: {:.2f}\\tScore: {:.3f}'.format(i_episode, \n",
    "                                                                          np.mean(scores_deque), \n",
    "                                                                          np.mean(score)))\n",
    "        average_score = np.mean(scores_deque)\n",
    "        if i_episode % print_every == 20 or average_score > 30:\n",
    "            print('\\rEpisode {}\\tAverage Score: {:.2f}'.format(i_episode, average_score))\n",
    "            torch.save(agents.actor_local.state_dict(), 'checkpoint_actor.pth')\n",
    "            torch.save(agents.critic_local.state_dict(), 'checkpoint_critic.pth') \n",
    "            if average_score > 30:\n",
    "                break\n",
    "    return scores"
   ]
  },
  {
   "cell_type": "code",
   "execution_count": 10,
   "metadata": {
    "scrolled": true
   },
   "outputs": [
    {
     "name": "stdout",
     "output_type": "stream",
     "text": [
      "Episode 1\tAverage Score: 0.72\tScore: 0.718\n",
      "Episode 2\tAverage Score: 0.77\tScore: 0.825\n",
      "Episode 3\tAverage Score: 0.79\tScore: 0.825\n",
      "Episode 4\tAverage Score: 0.82\tScore: 0.920\n",
      "Episode 5\tAverage Score: 0.86\tScore: 1.024\n",
      "Episode 6\tAverage Score: 0.83\tScore: 0.674\n",
      "Episode 7\tAverage Score: 0.87\tScore: 1.069\n",
      "Episode 8\tAverage Score: 0.88\tScore: 1.003\n",
      "Episode 9\tAverage Score: 0.94\tScore: 1.399\n",
      "Episode 10\tAverage Score: 1.01\tScore: 1.624\n",
      "Episode 11\tAverage Score: 1.08\tScore: 1.741\n",
      "Episode 12\tAverage Score: 1.19\tScore: 2.466\n",
      "Episode 13\tAverage Score: 1.28\tScore: 2.342\n",
      "Episode 14\tAverage Score: 1.34\tScore: 2.146\n",
      "Episode 15\tAverage Score: 1.42\tScore: 2.569\n",
      "Episode 16\tAverage Score: 1.51\tScore: 2.760\n",
      "Episode 17\tAverage Score: 1.63\tScore: 3.566\n",
      "Episode 18\tAverage Score: 1.75\tScore: 3.906\n",
      "Episode 19\tAverage Score: 1.85\tScore: 3.583\n",
      "Episode 20\tAverage Score: 1.98\tScore: 4.390\n",
      "Episode 21\tAverage Score: 2.12\tScore: 5.016\n",
      "Episode 22\tAverage Score: 2.29\tScore: 5.701\n",
      "Episode 23\tAverage Score: 2.46\tScore: 6.245\n",
      "Episode 24\tAverage Score: 2.63\tScore: 6.681\n",
      "Episode 25\tAverage Score: 2.89\tScore: 9.093\n",
      "Episode 26\tAverage Score: 3.19\tScore: 10.739\n",
      "Episode 27\tAverage Score: 3.50\tScore: 11.429\n",
      "Episode 28\tAverage Score: 3.86\tScore: 13.541\n",
      "Episode 29\tAverage Score: 4.16\tScore: 12.618\n",
      "Episode 30\tAverage Score: 4.56\tScore: 16.203\n",
      "Episode 31\tAverage Score: 5.11\tScore: 21.436\n",
      "Episode 32\tAverage Score: 5.68\tScore: 23.618\n",
      "Episode 33\tAverage Score: 6.28\tScore: 25.304\n",
      "Episode 34\tAverage Score: 6.86\tScore: 26.202\n",
      "Episode 35\tAverage Score: 7.52\tScore: 29.974\n",
      "Episode 36\tAverage Score: 8.26\tScore: 34.151\n",
      "Episode 37\tAverage Score: 8.97\tScore: 34.544\n",
      "Episode 38\tAverage Score: 9.70\tScore: 36.425\n",
      "Episode 39\tAverage Score: 10.38\tScore: 36.216\n",
      "Episode 40\tAverage Score: 11.02\tScore: 36.197\n",
      "Episode 41\tAverage Score: 11.66\tScore: 37.075\n",
      "Episode 42\tAverage Score: 12.26\tScore: 36.833\n",
      "Episode 43\tAverage Score: 12.85\tScore: 37.905\n",
      "Episode 44\tAverage Score: 13.39\tScore: 36.345\n",
      "Episode 45\tAverage Score: 13.92\tScore: 37.258\n",
      "Episode 46\tAverage Score: 14.43\tScore: 37.606\n",
      "Episode 47\tAverage Score: 14.91\tScore: 36.937\n",
      "Episode 48\tAverage Score: 15.38\tScore: 37.500\n",
      "Episode 49\tAverage Score: 15.84\tScore: 38.019\n",
      "Episode 50\tAverage Score: 16.29\tScore: 38.289\n",
      "Episode 51\tAverage Score: 16.73\tScore: 38.409\n",
      "Episode 52\tAverage Score: 17.14\tScore: 38.322\n",
      "Episode 53\tAverage Score: 17.53\tScore: 37.650\n",
      "Episode 54\tAverage Score: 17.91\tScore: 38.273\n",
      "Episode 55\tAverage Score: 18.25\tScore: 36.629\n",
      "Episode 56\tAverage Score: 18.61\tScore: 38.164\n",
      "Episode 57\tAverage Score: 18.96\tScore: 38.581\n",
      "Episode 58\tAverage Score: 19.30\tScore: 38.959\n",
      "Episode 59\tAverage Score: 19.64\tScore: 39.009\n",
      "Episode 60\tAverage Score: 19.96\tScore: 38.707\n",
      "Episode 61\tAverage Score: 20.25\tScore: 37.908\n",
      "Episode 62\tAverage Score: 20.54\tScore: 38.305\n",
      "Episode 63\tAverage Score: 20.82\tScore: 38.286\n",
      "Episode 64\tAverage Score: 21.10\tScore: 38.574\n",
      "Episode 65\tAverage Score: 21.36\tScore: 38.006\n",
      "Episode 66\tAverage Score: 21.60\tScore: 37.323\n",
      "Episode 67\tAverage Score: 21.85\tScore: 38.123\n",
      "Episode 68\tAverage Score: 22.08\tScore: 37.673\n",
      "Episode 69\tAverage Score: 22.30\tScore: 37.384\n",
      "Episode 70\tAverage Score: 22.53\tScore: 38.428\n",
      "Episode 71\tAverage Score: 22.75\tScore: 37.536\n",
      "Episode 72\tAverage Score: 22.95\tScore: 37.688\n",
      "Episode 73\tAverage Score: 23.14\tScore: 36.400\n",
      "Episode 74\tAverage Score: 23.31\tScore: 35.688\n",
      "Episode 75\tAverage Score: 23.51\tScore: 38.243\n",
      "Episode 76\tAverage Score: 23.67\tScore: 36.347\n",
      "Episode 77\tAverage Score: 23.84\tScore: 36.422\n",
      "Episode 78\tAverage Score: 24.00\tScore: 36.146\n",
      "Episode 79\tAverage Score: 24.15\tScore: 36.088\n",
      "Episode 80\tAverage Score: 24.30\tScore: 35.752\n",
      "Episode 81\tAverage Score: 24.45\tScore: 36.874\n",
      "Episode 82\tAverage Score: 24.61\tScore: 37.095\n",
      "Episode 83\tAverage Score: 24.75\tScore: 36.543\n",
      "Episode 84\tAverage Score: 24.90\tScore: 37.471\n",
      "Episode 85\tAverage Score: 25.03\tScore: 36.018\n",
      "Episode 86\tAverage Score: 25.16\tScore: 36.412\n",
      "Episode 87\tAverage Score: 25.30\tScore: 36.633\n",
      "Episode 88\tAverage Score: 25.43\tScore: 36.878\n",
      "Episode 89\tAverage Score: 25.56\tScore: 37.654\n",
      "Episode 90\tAverage Score: 25.70\tScore: 37.381\n",
      "Episode 91\tAverage Score: 25.82\tScore: 37.247\n",
      "Episode 92\tAverage Score: 25.95\tScore: 37.798\n",
      "Episode 93\tAverage Score: 26.08\tScore: 37.393\n",
      "Episode 94\tAverage Score: 26.21\tScore: 38.284\n",
      "Episode 95\tAverage Score: 26.33\tScore: 38.046\n",
      "Episode 96\tAverage Score: 26.44\tScore: 37.179\n",
      "Episode 97\tAverage Score: 26.55\tScore: 37.081\n",
      "Episode 98\tAverage Score: 26.67\tScore: 38.064\n",
      "Episode 99\tAverage Score: 26.78\tScore: 36.992\n",
      "Episode 100\tAverage Score: 26.88\tScore: 37.758\n",
      "Episode 101\tAverage Score: 27.26\tScore: 37.869\n",
      "Episode 102\tAverage Score: 27.63\tScore: 37.732\n",
      "Episode 103\tAverage Score: 27.99\tScore: 36.915\n",
      "Episode 104\tAverage Score: 28.36\tScore: 38.625\n",
      "Episode 105\tAverage Score: 28.73\tScore: 37.587\n",
      "Episode 106\tAverage Score: 29.10\tScore: 38.046\n",
      "Episode 107\tAverage Score: 29.47\tScore: 38.129\n",
      "Episode 108\tAverage Score: 29.84\tScore: 38.144\n",
      "Episode 109\tAverage Score: 30.20\tScore: 37.146\n",
      "Episode 109\tAverage Score: 30.20\n"
     ]
    }
   ],
   "source": [
    "scores = ddpg()"
   ]
  },
  {
   "cell_type": "code",
   "execution_count": 11,
   "metadata": {},
   "outputs": [
    {
     "data": {
      "image/png": "[encoded data removed]",
      "text/plain": [
       "<matplotlib.figure.Figure at 0x7fc21730bc18>"
      ]
     },
     "metadata": {
      "needs_background": "light"
     },
     "output_type": "display_data"
    }
   ],
   "source": [
    "# Plot the scores\n",
    "fig = plt.figure()\n",
    "ax = fig.add_subplot(111)\n",
    "plt.plot(np.arange(1, len(scores)+1), scores)\n",
    "plt.ylabel('Score')\n",
    "plt.xlabel('Episode #')\n",
    "plt.show()"
   ]
  },
  {
   "cell_type": "code",
   "execution_count": 12,
   "metadata": {},
   "outputs": [],
   "source": [
    "env.close()"
   ]
  },
  {
   "cell_type": "markdown",
   "metadata": {},
   "source": [
    "BUFFER_SIZE = int(1e6)  # replay buffer size (1e6 in original paper)\n",
    "BATCH_SIZE = 64        # minibatch size (64 in original paper)\n",
    "GAMMA = 0.99            # discount factor\n",
    "TAU = 1e-3              # for soft update of target parameters\n",
    "LR_ACTOR = 1e-4         # learning rate of the actor \n",
    "LR_CRITIC = 1e-4        # learning rate of the critic\n",
    "WEIGHT_DECAY = 0  "
   ]
  },
  {
   "cell_type": "markdown",
   "metadata": {},
   "source": [
    "no batchnorm for layers, no dropout for each layer and relu for activation function, fc1= 400, fc2=300"
   ]
  },
  {
   "cell_type": "code",
   "execution_count": null,
   "metadata": {},
   "outputs": [],
   "source": []
  }
 ],
 "metadata": {
  "kernelspec": {
   "display_name": "Python 3",
   "language": "python",
   "name": "python3"
  },
  "language_info": {
   "codemirror_mode": {
    "name": "ipython",
    "version": 3
   },
   "file_extension": ".py",
   "mimetype": "text/x-python",
   "name": "python",
   "nbconvert_exporter": "python",
   "pygments_lexer": "ipython3",
   "version": "3.6.3"
  }
 },
 "nbformat": 4,
 "nbformat_minor": 2
}
