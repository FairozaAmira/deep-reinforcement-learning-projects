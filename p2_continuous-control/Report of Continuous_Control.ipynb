{
 "cells": [
  {
   "cell_type": "markdown",
   "metadata": {
    "colab_type": "text",
    "id": "LrBlFgroqXO6"
   },
   "source": [
    "# Report Project 2 DRLND Udacity\n",
    "**Continuous Control project**\n",
    "\n",
    "---\n",
    "\n",
    "This project will work with [Reacher](https://github.com/Unity-Technologies/ml-agents/blob/master/docs/Learning-Environment-Examples.md#reacher) environment.\n",
    "\n",
    "In this environment, a double-jointed arm can move to target locations. A reward of +0.1 is provided for each step that the agent's hand is in the goal location. Thus, the goal of your agent is to maintain its position at the target location for as many time steps as possible.\n",
    "\n",
    "The observation space consists of 33 variables corresponding to position, rotation, velocity, and angular velocities of the arm. Each action is a vector with four numbers, corresponding to torque applicable to two joints. Every entry in the action vector should be a number between -1 and 1.\n",
    "\n",
    "### 1. Start the Environment\n",
    "\n",
    "Run the next code cell to install a few packages.  This line will take a few minutes to run! "
   ]
  },
  {
   "cell_type": "markdown",
   "metadata": {
    "colab_type": "text",
    "id": "itFPgC-drmCa"
   },
   "source": [
    "As I am using the Udacity workspace, below is the necessary code to be executed in order to run the environment."
   ]
  },
  {
   "cell_type": "code",
   "execution_count": 0,
   "metadata": {
    "colab": {},
    "colab_type": "code",
    "id": "K6wTmPrfqXO8",
    "outputId": "b93574de-6fa6-4eaa-ec72-82360a6aa6f7",
    "scrolled": true
   },
   "outputs": [
    {
     "name": "stdout",
     "output_type": "stream",
     "text": [
      "\u001b[31mtensorflow 1.7.1 has requirement numpy>=1.13.3, but you'll have numpy 1.12.1 which is incompatible.\u001b[0m\r\n",
      "\u001b[31mipython 6.5.0 has requirement prompt-toolkit<2.0.0,>=1.0.15, but you'll have prompt-toolkit 2.0.10 which is incompatible.\u001b[0m\r\n"
     ]
    }
   ],
   "source": [
    "!pip -q install ./python"
   ]
  },
  {
   "cell_type": "markdown",
   "metadata": {
    "colab_type": "text",
    "id": "P3qMeoKwqXPB"
   },
   "source": [
    "The environments corresponding to both versions of the environment are already saved in the Workspace and can be accessed at the file paths provided below.  \n",
    "\n",
    "Please select one of the two options below for loading the environment."
   ]
  },
  {
   "cell_type": "code",
   "execution_count": 0,
   "metadata": {
    "colab": {},
    "colab_type": "code",
    "id": "tkZBCGo1qXPC",
    "outputId": "cfa98cf9-8c25-4ec5-da12-a4422a02a6a8"
   },
   "outputs": [
    {
     "name": "stderr",
     "output_type": "stream",
     "text": [
      "INFO:unityagents:\n",
      "'Academy' started successfully!\n",
      "Unity Academy name: Academy\n",
      "        Number of Brains: 1\n",
      "        Number of External Brains : 1\n",
      "        Lesson number : 0\n",
      "        Reset Parameters :\n",
      "\t\tgoal_speed -> 1.0\n",
      "\t\tgoal_size -> 5.0\n",
      "Unity brain name: ReacherBrain\n",
      "        Number of Visual Observations (per agent): 0\n",
      "        Vector Observation space type: continuous\n",
      "        Vector Observation space size (per agent): 33\n",
      "        Number of stacked Vector Observation: 1\n",
      "        Vector Action space type: continuous\n",
      "        Vector Action space size (per agent): 4\n",
      "        Vector Action descriptions: , , , \n"
     ]
    }
   ],
   "source": [
    "from unityagents import UnityEnvironment\n",
    "import numpy as np\n",
    "\n",
    "# select this option to load version 1 (with a single agent) of the environment\n",
    "#env = UnityEnvironment(file_name='/data/Reacher_One_Linux_NoVis/Reacher_One_Linux_NoVis.x86_64')\n",
    "\n",
    "# select this option to load version 2 (with 20 agents) of the environment\n",
    "env = UnityEnvironment(file_name='/data/Reacher_Linux_NoVis/Reacher.x86_64')"
   ]
  },
  {
   "cell_type": "markdown",
   "metadata": {
    "colab_type": "text",
    "id": "c1RgsGz_qXPF"
   },
   "source": [
    "Environments contain **_brains_** which are responsible for deciding the actions of their associated agents. Here we check for the first brain available, and set it as the default brain we will be controlling from Python."
   ]
  },
  {
   "cell_type": "code",
   "execution_count": 0,
   "metadata": {
    "colab": {},
    "colab_type": "code",
    "id": "5ULl52yMqXPG"
   },
   "outputs": [],
   "source": [
    "# get the default brain\n",
    "brain_name = env.brain_names[0]\n",
    "brain = env.brains[brain_name]"
   ]
  },
  {
   "cell_type": "markdown",
   "metadata": {
    "colab_type": "text",
    "id": "eHOHdRzLqXPL"
   },
   "source": [
    "### 2. Examine the State and Action Spaces\n",
    "\n",
    "Run the code cell below to print some information about the environment."
   ]
  },
  {
   "cell_type": "code",
   "execution_count": 0,
   "metadata": {
    "colab": {},
    "colab_type": "code",
    "id": "uxSfM67yqXPM",
    "outputId": "00f466c7-2843-4186-fb9e-b9a2d4b93576"
   },
   "outputs": [
    {
     "name": "stdout",
     "output_type": "stream",
     "text": [
      "Number of agents: 20\n",
      "Size of each action: 4\n",
      "There are 20 agents. Each observes a state with length: 33\n",
      "The state for the first agent looks like: [  0.00000000e+00  -4.00000000e+00   0.00000000e+00   1.00000000e+00\n",
      "  -0.00000000e+00  -0.00000000e+00  -4.37113883e-08   0.00000000e+00\n",
      "   0.00000000e+00   0.00000000e+00   0.00000000e+00   0.00000000e+00\n",
      "   0.00000000e+00   0.00000000e+00  -1.00000000e+01   0.00000000e+00\n",
      "   1.00000000e+00  -0.00000000e+00  -0.00000000e+00  -4.37113883e-08\n",
      "   0.00000000e+00   0.00000000e+00   0.00000000e+00   0.00000000e+00\n",
      "   0.00000000e+00   0.00000000e+00   5.75471878e+00  -1.00000000e+00\n",
      "   5.55726624e+00   0.00000000e+00   1.00000000e+00   0.00000000e+00\n",
      "  -1.68164849e-01]\n"
     ]
    }
   ],
   "source": [
    "# reset the environment\n",
    "env_info = env.reset(train_mode=True)[brain_name]\n",
    "\n",
    "# number of agents\n",
    "num_agents = len(env_info.agents)\n",
    "print('Number of agents:', num_agents)\n",
    "\n",
    "# size of each action\n",
    "action_size = brain.vector_action_space_size\n",
    "print('Size of each action:', action_size)\n",
    "\n",
    "# examine the state space \n",
    "states = env_info.vector_observations\n",
    "state_size = states.shape[1]\n",
    "print('There are {} agents. Each observes a state with length: {}'.format(states.shape[0], state_size))\n",
    "print('The state for the first agent looks like:', states[0])"
   ]
  },
  {
   "cell_type": "markdown",
   "metadata": {
    "colab_type": "text",
    "id": "nvNlt2hmqXPP"
   },
   "source": [
    "### 3. Take Random Actions in the Environment\n",
    "\n",
    "In the next code cell, you will learn how to use the Python API to control the agent and receive feedback from the environment.\n",
    "\n",
    "Note that **in this coding environment, you will not be able to watch the agents while they are training**, and you should set `train_mode=True` to restart the environment.\n",
    "\n",
    "Then, to retrain the agent, `train_mode=False` need to be set."
   ]
  },
  {
   "cell_type": "code",
   "execution_count": 0,
   "metadata": {
    "colab": {},
    "colab_type": "code",
    "id": "A52-WjuSqXPQ",
    "outputId": "b8168c68-e842-40ef-f49e-b4bac0abcd37"
   },
   "outputs": [
    {
     "name": "stdout",
     "output_type": "stream",
     "text": [
      "Total score (averaged over agents) this episode: 0.1064999976195395\n"
     ]
    }
   ],
   "source": [
    "env_info = env.reset(train_mode=False)[brain_name]      # reset the environment    \n",
    "states = env_info.vector_observations                  # get the current state (for each agent)\n",
    "scores = np.zeros(num_agents)                          # initialize the score (for each agent)\n",
    "while True:\n",
    "    actions = np.random.randn(num_agents, action_size) # select an action (for each agent)\n",
    "    actions = np.clip(actions, -1, 1)                  # all actions between -1 and 1\n",
    "    env_info = env.step(actions)[brain_name]           # send all actions to tne environment\n",
    "    next_states = env_info.vector_observations         # get next state (for each agent)\n",
    "    rewards = env_info.rewards                         # get reward (for each agent)\n",
    "    dones = env_info.local_done                        # see if episode finished\n",
    "    scores += env_info.rewards                         # update the score (for each agent)\n",
    "    states = next_states                               # roll over states to next time step\n",
    "    if np.any(dones):                                  # exit loop if episode finished\n",
    "        break\n",
    "print('Total score (averaged over agents) this episode: {}'.format(np.mean(scores)))"
   ]
  },
  {
   "cell_type": "markdown",
   "metadata": {
    "colab_type": "text",
    "id": "7oqDPmbmqXPT"
   },
   "source": [
    "When finished, you can close the environment. The environment will be closed at the end of this notebook."
   ]
  },
  {
   "cell_type": "code",
   "execution_count": 0,
   "metadata": {
    "colab": {},
    "colab_type": "code",
    "id": "Krs6IDwuqXPU"
   },
   "outputs": [],
   "source": [
    "#env.close()"
   ]
  },
  {
   "cell_type": "markdown",
   "metadata": {
    "colab_type": "text",
    "id": "871s-20cqXPX"
   },
   "source": [
    "### 4. It's Your Turn!\n",
    "\n",
    "Now it's your turn to train your own agent to solve the environment!  A few **important notes**:\n",
    "- When training the environment, set `train_mode=True`, so that the line for resetting the environment looks like the following:\n",
    "```python\n",
    "env_info = env.reset(train_mode=True)[brain_name]\n",
    "```\n",
    "- To structure your work, you're welcome to work directly in this Jupyter notebook, or you might like to start over with a new file!  You can see the list of files in the workspace by clicking on **_Jupyter_** in the top left corner of the notebook.\n",
    "- In this coding environment, you will not be able to watch the agents while they are training.  However, **_after training the agents_**, you can download the saved model weights to watch the agents on your own machine! "
   ]
  },
  {
   "cell_type": "markdown",
   "metadata": {
    "colab_type": "text",
    "id": "n3AS1RpHsDiD"
   },
   "source": [
    "**Importing the necessary libraries**"
   ]
  },
  {
   "cell_type": "code",
   "execution_count": 0,
   "metadata": {
    "colab": {},
    "colab_type": "code",
    "id": "a0zLT3mHqXPY"
   },
   "outputs": [],
   "source": [
    "from collections import deque\n",
    "import matplotlib.pyplot as plt\n",
    "import torch\n",
    "import time\n",
    "import random\n",
    "import ddpg_agent\n",
    "\n",
    "%matplotlib inline"
   ]
  },
  {
   "cell_type": "markdown",
   "metadata": {
    "colab_type": "text",
    "id": "ChFn6Ek_sJ7_"
   },
   "source": [
    "**Calling the `DDPG_Agent` function**"
   ]
  },
  {
   "cell_type": "code",
   "execution_count": 0,
   "metadata": {
    "colab": {},
    "colab_type": "code",
    "id": "2f6QlKa3qXPb"
   },
   "outputs": [],
   "source": [
    "agents = ddpg_agent.DDPG_Agent(state_size=state_size, action_size=action_size, num_agents = num_agents, random_seed=0)\n",
    "n_episodes = 1000\n",
    "print_every = 20"
   ]
  },
  {
   "cell_type": "markdown",
   "metadata": {
    "colab_type": "text",
    "id": "kFSMQGYYsRSO"
   },
   "source": [
    "**Training the agent**\n",
    "\n",
    "Below are the first result, where I used below parameters in DDPG Agent.\n",
    "```\n",
    "BUFFER_SIZE = int(1e5)  # replay buffer size (1e6 in original paper)\n",
    "\n",
    "BATCH_SIZE = 128        # minibatch size (64 in original paper)\n",
    "\n",
    "GAMMA = 0.99            # discount factor\n",
    "\n",
    "TAU = 1e-3              # for soft update of target parameters\n",
    "\n",
    "LR_ACTOR = 1e-4         # learning rate of the actor \n",
    "\n",
    "LR_CRITIC = 1e-3        # learning rate of the critic\n",
    "\n",
    "WEIGHT_DECAY = 0        # L2 weight decay (1e-2  in original paper)\n",
    "```\n",
    "\n",
    "Model used are\n",
    "\n",
    "1. 2 fully connected layers, where the first layer has 400 nodes and the second one has 300 nodes.\n",
    "2. No dropout layer in between.\n",
    "3. ReLU is used for the activation function.\n",
    "\n",
    "Results:\n",
    "\n",
    "After 151 episodes, an average score of +30 is obtained.\n",
    "\n",
    "This experiment is done in multiple (20) agents environment. "
   ]
  },
  {
   "cell_type": "code",
   "execution_count": 0,
   "metadata": {
    "colab": {},
    "colab_type": "code",
    "id": "ICExU485qXPd"
   },
   "outputs": [],
   "source": [
    "def ddpg(n_episodes=2000, max_t=1000):\n",
    "    scores_deque = deque(maxlen=100)\n",
    "    scores = []\n",
    "    for i_episode in range(1, n_episodes+1):\n",
    "        env_info = env.reset(train_mode=True)[brain_name]\n",
    "        state = env_info.vector_observations\n",
    "        agents.reset()\n",
    "        score = np.zeros(num_agents)\n",
    "        #print (state.shape)\n",
    "        for t in range(max_t):\n",
    "            action = agents.act(state)\n",
    "            #print (action)\n",
    "            #time.sleep(100)\n",
    "            env_info = env.step(action)[brain_name]\n",
    "            next_state = env_info.vector_observations\n",
    "            rewards = env_info.rewards\n",
    "            dones = env_info.local_done\n",
    "            #print (state.shape)\n",
    "            #print (rewards.shape)\n",
    "            agents.step(state, action, rewards, next_state, dones)\n",
    "            state = next_state\n",
    "            score += rewards\n",
    "            if np.any(dones):\n",
    "                print('\\tSteps: ', t)\n",
    "                break \n",
    "        scores_deque.append(np.mean(score))\n",
    "        scores.append(np.mean(score))\n",
    "        print('\\rEpisode {}\\tAverage Score: {:.2f}\\tScore: {:.3f}'.format(i_episode, \n",
    "                                                                          np.mean(scores_deque), \n",
    "                                                                          np.mean(score)))\n",
    "        average_score = np.mean(scores_deque)\n",
    "        if i_episode % print_every == 20 or average_score > 30:\n",
    "            print('\\rEpisode {}\\tAverage Score: {:.2f}'.format(i_episode, average_score))\n",
    "            torch.save(agents.actor_local.state_dict(), 'checkpoint_actor.pth')\n",
    "            torch.save(agents.critic_local.state_dict(), 'checkpoint_critic.pth') \n",
    "            if average_score > 30:\n",
    "                break\n",
    "    return scores"
   ]
  },
  {
   "cell_type": "code",
   "execution_count": 0,
   "metadata": {
    "colab": {},
    "colab_type": "code",
    "id": "ojtXv4HHqXPg",
    "outputId": "fb1a9e27-fbb1-48ed-f27a-7e829c344a30"
   },
   "outputs": [
    {
     "name": "stdout",
     "output_type": "stream",
     "text": [
      "Episode 1\tAverage Score: 0.72\tScore: 0.715\n",
      "Episode 2\tAverage Score: 0.79\tScore: 0.858\n",
      "Episode 3\tAverage Score: 0.80\tScore: 0.826\n",
      "Episode 4\tAverage Score: 0.81\tScore: 0.852\n",
      "Episode 5\tAverage Score: 0.78\tScore: 0.653\n",
      "Episode 6\tAverage Score: 0.81\tScore: 0.964\n",
      "Episode 7\tAverage Score: 0.86\tScore: 1.173\n",
      "Episode 8\tAverage Score: 0.94\tScore: 1.443\n",
      "Episode 9\tAverage Score: 0.99\tScore: 1.440\n",
      "Episode 10\tAverage Score: 1.02\tScore: 1.230\n",
      "Episode 11\tAverage Score: 1.02\tScore: 1.044\n",
      "Episode 12\tAverage Score: 1.04\tScore: 1.280\n",
      "Episode 13\tAverage Score: 1.09\tScore: 1.754\n",
      "Episode 14\tAverage Score: 1.22\tScore: 2.825\n",
      "Episode 15\tAverage Score: 1.33\tScore: 2.868\n",
      "Episode 16\tAverage Score: 1.44\tScore: 3.070\n",
      "Episode 17\tAverage Score: 1.57\tScore: 3.639\n",
      "Episode 18\tAverage Score: 1.70\tScore: 4.012\n",
      "Episode 19\tAverage Score: 1.80\tScore: 3.614\n",
      "Episode 20\tAverage Score: 1.93\tScore: 4.353\n",
      "Episode 21\tAverage Score: 2.06\tScore: 4.668\n",
      "Episode 22\tAverage Score: 2.23\tScore: 5.834\n",
      "Episode 23\tAverage Score: 2.39\tScore: 5.825\n",
      "Episode 24\tAverage Score: 2.57\tScore: 6.842\n",
      "Episode 25\tAverage Score: 2.72\tScore: 6.302\n",
      "Episode 26\tAverage Score: 2.82\tScore: 5.249\n",
      "Episode 27\tAverage Score: 2.95\tScore: 6.399\n",
      "Episode 28\tAverage Score: 3.10\tScore: 7.013\n",
      "Episode 29\tAverage Score: 3.24\tScore: 7.146\n",
      "Episode 30\tAverage Score: 3.38\tScore: 7.507\n",
      "Episode 31\tAverage Score: 3.59\tScore: 9.784\n",
      "Episode 32\tAverage Score: 3.78\tScore: 9.767\n",
      "Episode 33\tAverage Score: 3.97\tScore: 10.160\n",
      "Episode 34\tAverage Score: 4.15\tScore: 10.124\n",
      "Episode 35\tAverage Score: 4.32\tScore: 9.997\n",
      "Episode 36\tAverage Score: 4.48\tScore: 9.869\n",
      "Episode 37\tAverage Score: 4.64\tScore: 10.444\n",
      "Episode 38\tAverage Score: 4.77\tScore: 9.778\n",
      "Episode 39\tAverage Score: 4.94\tScore: 11.241\n",
      "Episode 40\tAverage Score: 5.07\tScore: 10.348\n",
      "Episode 41\tAverage Score: 5.23\tScore: 11.709\n",
      "Episode 42\tAverage Score: 5.38\tScore: 11.377\n",
      "Episode 43\tAverage Score: 5.51\tScore: 10.885\n",
      "Episode 44\tAverage Score: 5.70\tScore: 13.767\n",
      "Episode 45\tAverage Score: 5.92\tScore: 15.790\n",
      "Episode 46\tAverage Score: 6.16\tScore: 16.966\n",
      "Episode 47\tAverage Score: 6.35\tScore: 14.845\n",
      "Episode 48\tAverage Score: 6.57\tScore: 16.880\n",
      "Episode 49\tAverage Score: 6.78\tScore: 16.847\n",
      "Episode 50\tAverage Score: 7.01\tScore: 18.622\n",
      "Episode 51\tAverage Score: 7.25\tScore: 19.066\n",
      "Episode 52\tAverage Score: 7.51\tScore: 21.017\n",
      "Episode 53\tAverage Score: 7.73\tScore: 19.037\n",
      "Episode 54\tAverage Score: 7.96\tScore: 20.030\n",
      "Episode 55\tAverage Score: 8.22\tScore: 22.381\n",
      "Episode 56\tAverage Score: 8.43\tScore: 19.801\n",
      "Episode 57\tAverage Score: 8.63\tScore: 20.116\n",
      "Episode 58\tAverage Score: 8.88\tScore: 22.936\n",
      "Episode 59\tAverage Score: 9.12\tScore: 23.219\n",
      "Episode 60\tAverage Score: 9.30\tScore: 19.627\n",
      "Episode 61\tAverage Score: 9.51\tScore: 22.447\n",
      "Episode 62\tAverage Score: 9.69\tScore: 20.581\n",
      "Episode 63\tAverage Score: 9.89\tScore: 22.335\n",
      "Episode 64\tAverage Score: 10.06\tScore: 20.954\n",
      "Episode 65\tAverage Score: 10.22\tScore: 20.126\n",
      "Episode 66\tAverage Score: 10.41\tScore: 23.021\n",
      "Episode 67\tAverage Score: 10.56\tScore: 20.373\n",
      "Episode 68\tAverage Score: 10.76\tScore: 24.256\n",
      "Episode 69\tAverage Score: 10.91\tScore: 20.723\n",
      "Episode 70\tAverage Score: 11.05\tScore: 20.778\n",
      "Episode 71\tAverage Score: 11.19\tScore: 20.980\n",
      "Episode 72\tAverage Score: 11.36\tScore: 23.339\n",
      "Episode 73\tAverage Score: 11.54\tScore: 24.449\n",
      "Episode 74\tAverage Score: 11.71\tScore: 24.537\n",
      "Episode 75\tAverage Score: 11.90\tScore: 25.522\n",
      "Episode 76\tAverage Score: 12.08\tScore: 25.912\n",
      "Episode 77\tAverage Score: 12.25\tScore: 25.456\n",
      "Episode 78\tAverage Score: 12.41\tScore: 23.964\n",
      "Episode 79\tAverage Score: 12.55\tScore: 23.790\n",
      "Episode 80\tAverage Score: 12.73\tScore: 26.917\n",
      "Episode 81\tAverage Score: 12.91\tScore: 27.240\n",
      "Episode 82\tAverage Score: 13.05\tScore: 24.793\n",
      "Episode 83\tAverage Score: 13.21\tScore: 26.476\n",
      "Episode 84\tAverage Score: 13.40\tScore: 28.404\n",
      "Episode 85\tAverage Score: 13.56\tScore: 27.144\n",
      "Episode 86\tAverage Score: 13.74\tScore: 29.693\n",
      "Episode 87\tAverage Score: 13.93\tScore: 29.618\n",
      "Episode 88\tAverage Score: 14.11\tScore: 29.584\n",
      "Episode 89\tAverage Score: 14.31\tScore: 32.707\n",
      "Episode 90\tAverage Score: 14.53\tScore: 33.828\n",
      "Episode 91\tAverage Score: 14.73\tScore: 32.634\n",
      "Episode 92\tAverage Score: 14.90\tScore: 30.505\n",
      "Episode 93\tAverage Score: 15.08\tScore: 31.724\n",
      "Episode 94\tAverage Score: 15.29\tScore: 34.749\n",
      "Episode 95\tAverage Score: 15.46\tScore: 30.989\n",
      "Episode 96\tAverage Score: 15.67\tScore: 35.766\n",
      "Episode 97\tAverage Score: 15.87\tScore: 35.460\n",
      "Episode 98\tAverage Score: 16.08\tScore: 36.318\n",
      "Episode 99\tAverage Score: 16.25\tScore: 33.007\n",
      "Episode 100\tAverage Score: 16.40\tScore: 30.959\n",
      "Episode 101\tAverage Score: 16.75\tScore: 35.741\n",
      "Episode 102\tAverage Score: 17.08\tScore: 33.973\n",
      "Episode 103\tAverage Score: 17.42\tScore: 34.756\n",
      "Episode 104\tAverage Score: 17.73\tScore: 31.491\n",
      "Episode 105\tAverage Score: 18.04\tScore: 31.932\n",
      "Episode 106\tAverage Score: 18.38\tScore: 34.890\n",
      "Episode 107\tAverage Score: 18.71\tScore: 34.150\n",
      "Episode 108\tAverage Score: 19.05\tScore: 35.716\n",
      "Episode 109\tAverage Score: 19.37\tScore: 33.127\n",
      "Episode 110\tAverage Score: 19.72\tScore: 36.283\n",
      "Episode 111\tAverage Score: 20.05\tScore: 34.119\n",
      "Episode 112\tAverage Score: 20.38\tScore: 34.630\n",
      "Episode 113\tAverage Score: 20.71\tScore: 34.118\n",
      "Episode 114\tAverage Score: 21.00\tScore: 32.670\n",
      "Episode 115\tAverage Score: 21.30\tScore: 31.971\n",
      "Episode 116\tAverage Score: 21.57\tScore: 30.543\n",
      "Episode 117\tAverage Score: 21.86\tScore: 32.523\n",
      "Episode 118\tAverage Score: 22.16\tScore: 34.326\n",
      "Episode 119\tAverage Score: 22.47\tScore: 34.654\n",
      "Episode 120\tAverage Score: 22.75\tScore: 32.231\n",
      "Episode 121\tAverage Score: 23.03\tScore: 32.256\n",
      "Episode 122\tAverage Score: 23.30\tScore: 33.265\n",
      "Episode 123\tAverage Score: 23.57\tScore: 32.743\n",
      "Episode 124\tAverage Score: 23.82\tScore: 32.003\n",
      "Episode 125\tAverage Score: 24.08\tScore: 32.195\n",
      "Episode 126\tAverage Score: 24.32\tScore: 29.438\n",
      "Episode 127\tAverage Score: 24.58\tScore: 31.607\n",
      "Episode 128\tAverage Score: 24.87\tScore: 36.683\n",
      "Episode 129\tAverage Score: 25.12\tScore: 31.588\n",
      "Episode 130\tAverage Score: 25.36\tScore: 31.834\n",
      "Episode 131\tAverage Score: 25.61\tScore: 34.432\n",
      "Episode 132\tAverage Score: 25.84\tScore: 33.004\n",
      "Episode 133\tAverage Score: 26.09\tScore: 35.551\n",
      "Episode 134\tAverage Score: 26.34\tScore: 34.955\n",
      "Episode 135\tAverage Score: 26.59\tScore: 34.730\n",
      "Episode 136\tAverage Score: 26.84\tScore: 34.690\n",
      "Episode 137\tAverage Score: 27.10\tScore: 37.115\n",
      "Episode 138\tAverage Score: 27.36\tScore: 35.645\n",
      "Episode 139\tAverage Score: 27.61\tScore: 35.696\n",
      "Episode 140\tAverage Score: 27.86\tScore: 35.456\n",
      "Episode 141\tAverage Score: 28.09\tScore: 35.437\n",
      "Episode 142\tAverage Score: 28.32\tScore: 34.136\n",
      "Episode 143\tAverage Score: 28.55\tScore: 34.164\n",
      "Episode 144\tAverage Score: 28.78\tScore: 36.075\n",
      "Episode 145\tAverage Score: 28.97\tScore: 35.417\n",
      "Episode 146\tAverage Score: 29.15\tScore: 34.289\n",
      "Episode 147\tAverage Score: 29.35\tScore: 35.411\n",
      "Episode 148\tAverage Score: 29.54\tScore: 35.164\n",
      "Episode 149\tAverage Score: 29.71\tScore: 34.285\n",
      "Episode 150\tAverage Score: 29.88\tScore: 35.975\n",
      "Episode 151\tAverage Score: 30.02\tScore: 32.999\n",
      "Episode 151\tAverage Score: 30.02\n"
     ]
    }
   ],
   "source": [
    "scores = ddpg()"
   ]
  },
  {
   "cell_type": "code",
   "execution_count": 0,
   "metadata": {
    "colab": {},
    "colab_type": "code",
    "id": "3nDe-sXjqXPm",
    "outputId": "d7b24525-4fe5-46a9-e88d-ad1a6bc9c91c"
   },
   "outputs": [
    {
     "data": {
      "image/png": "[encoded data removed]",
      "text/plain": [
       "<matplotlib.figure.Figure at 0x7f78510ae828>"
      ]
     },
     "metadata": {
      "needs_background": "light",
      "tags": []
     },
     "output_type": "display_data"
    }
   ],
   "source": [
    "# Plot the scores\n",
    "fig = plt.figure()\n",
    "ax = fig.add_subplot(111)\n",
    "plt.plot(np.arange(1, len(scores)+1), scores)\n",
    "plt.ylabel('Score')\n",
    "plt.xlabel('Episode #')\n",
    "plt.show()"
   ]
  },
  {
   "cell_type": "code",
   "execution_count": 0,
   "metadata": {
    "colab": {},
    "colab_type": "code",
    "id": "g10phj5EqXPr"
   },
   "outputs": [],
   "source": [
    "env.close()"
   ]
  },
  {
   "cell_type": "markdown",
   "metadata": {
    "colab_type": "text",
    "id": "NBr2UaNptYxY"
   },
   "source": [
    "### Other Experiments\n",
    "\n",
    "Below are results for other experiments done with some parameters tuned and models changed."
   ]
  },
  {
   "cell_type": "markdown",
   "metadata": {
    "colab_type": "text",
    "id": "AV4giR9O0YGK"
   },
   "source": [
    "**2nd Experiment**\n",
    "\n",
    "Parameters:\n",
    "\n",
    "BUFFER_SIZE = int(1e5)  # replay buffer size (1e6 in original paper)\n",
    "\n",
    "BATCH_SIZE = 128        # minibatch size (64 in original paper)\n",
    "\n",
    "GAMMA = 0.99            # discount factor\n",
    "\n",
    "TAU = 1e-3              # for soft update of target parameters\n",
    "\n",
    "LR_ACTOR = 1e-4         # learning rate of the actor \n",
    "\n",
    "LR_CRITIC = 1e-3        # learning rate of the critic\n",
    "\n",
    "WEIGHT_DECAY = 0        # L2 weight decay (1e-2  in original paper)\n",
    "\n",
    "Model:\n",
    "\n",
    "1. Add dropout layers with probability of 0.2.\n",
    "2. 2 fully connected layers with size of 400 and 300 nodes.!\n",
    "3. Use ReLU for activation function.\n",
    "\n",
    "Result:\n",
    "Obtained an average score of 30.08 after 148 episodes.\n",
    "\n",
    "The plotted graph is as below. \n",
    "\n",
    "<img src= \"cc_2.png\">\n"
   ]
  },
  {
   "cell_type": "markdown",
   "metadata": {},
   "source": [
    "**3rd experiment**\n",
    "\n",
    "The replay buffer size is changed to $10^6$ and learning parmaeter for critic control is changed to $10^{-4}$. \n",
    "\n",
    "Result:\n",
    "Average score of 30.22 is achieved at episode 102.\n",
    "\n",
    "The plotted graph is as below.\n",
    "\n",
    "<img src=\"cc_3.png\">\n"
   ]
  },
  {
   "cell_type": "markdown",
   "metadata": {},
   "source": [
    "**4th experiment**\n",
    "\n",
    "Change is made in the model, where the dropout layer is excluded.\n",
    "\n",
    "Result:\n",
    "Average score of 30.37 is obtained at episode 103.\n",
    "\n",
    "Graph:\n",
    "\n",
    "<img src= \"cc_4.png\">"
   ]
  },
  {
   "cell_type": "markdown",
   "metadata": {},
   "source": [
    "**5th experiment**\n",
    "\n",
    "Change is made in the batch size from 128 to 64.\n",
    "\n",
    "Result:\n",
    "Average score of 30.18 is achieved at episode 106.\n",
    "\n",
    "Graph:\n",
    "\n",
    "<img src=\"cc_5.png\">"
   ]
  },
  {
   "cell_type": "markdown",
   "metadata": {},
   "source": [
    "**Other experiments**\n",
    "\n",
    "1. I have excluded some experiments in the result when I tried to reduce and increase the fully connected layer's size. Unfortunately, the training became very slow, thus I have concluded the size of 400 and 300 are the best.\n",
    "\n",
    "2. I have also tried to train for one agent using the last parameter, and the average score of 30.20 is achieved at episode 109. The obtained training curve is as below.\n",
    "\n",
    "<img src = \"cc_6.png\">"
   ]
  },
  {
   "cell_type": "markdown",
   "metadata": {},
   "source": [
    "### Discussions\n",
    "\n",
    "All of the experiments above use the Deep Deterministic Policy Gradient(DDPG) according to the \"Continuous Control with Deep Reinforcement Learning\" paper. The actor-critic, model-free algorithm based on the DDPG that can operate over continuous action spaces is adapted in this paper. This paper also used reacher as one of its tested environments. This approach has several benefits such as data efficiency, and has been successfully applied to real-world applications. Fewer steps of experience was used by this method compared to the DQN learning.\n",
    "\n",
    "DDPG uses 4 neural networks, which are the Q network, the deterministic policy network, the target Q network and the target policy network. In DDPG, the Actor directly maps states to actions (the output of the network directly the output) instead of outputting the probability distribution acrossa discrete action space. DDPG also uses a replay buffer to sample experience to update the neural network parameters. "
   ]
  },
  {
   "cell_type": "markdown",
   "metadata": {},
   "source": [
    "### Conclusion\n",
    "\n",
    "By adding dropout layers and increasing the batch size, the required episodes to train the agent can also be reduced. However, changing the size of fully connected layers might affects the training performance."
   ]
  },
  {
   "cell_type": "markdown",
   "metadata": {},
   "source": [
    "### Future works\n",
    "\n",
    "Explore the implementation in Proximal Policy Optimization (PPO) and Distributed Distributional Deterministic Policy Gradients.\n",
    "\n",
    "Try the DDPG in crawler environment."
   ]
  },
  {
   "cell_type": "code",
   "execution_count": null,
   "metadata": {},
   "outputs": [],
   "source": []
  }
 ],
 "metadata": {
  "colab": {
   "collapsed_sections": [],
   "name": "Report of Continuous_Control_1.ipynb",
   "provenance": [
    {
     "file_id": "1N2t3nqgsg8KybnUUOP55_9pZZL2xkI2f",
     "timestamp": 1571197390696
    }
   ]
  },
  "kernelspec": {
   "display_name": "Python 3",
   "language": "python",
   "name": "python3"
  },
  "language_info": {
   "codemirror_mode": {
    "name": "ipython",
    "version": 3
   },
   "file_extension": ".py",
   "mimetype": "text/x-python",
   "name": "python",
   "nbconvert_exporter": "python",
   "pygments_lexer": "ipython3",
   "version": "3.7.3"
  }
 },
 "nbformat": 4,
 "nbformat_minor": 1
}
