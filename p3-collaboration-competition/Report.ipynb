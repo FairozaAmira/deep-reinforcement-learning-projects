{
  "nbformat": 4,
  "nbformat_minor": 0,
  "metadata": {
    "kernelspec": {
      "display_name": "Python 3",
      "language": "python",
      "name": "python3"
    },
    "language_info": {
      "codemirror_mode": {
        "name": "ipython",
        "version": 3
      },
      "file_extension": ".py",
      "mimetype": "text/x-python",
      "name": "python",
      "nbconvert_exporter": "python",
      "pygments_lexer": "ipython3",
      "version": "3.6.9"
    },
    "colab": {
      "name": "Report.ipynb",
      "provenance": []
    }
  },
  "cells": [
    {
      "cell_type": "markdown",
      "metadata": {
        "id": "HtyDR2hX6kRx",
        "colab_type": "text"
      },
      "source": [
        "# Report for Project 3 - Collaboration and Competition Udacity Deep Learning Nanodegree\n",
        "\n",
        "*By: Fairoza Amira Binti Hamzah*\n",
        "\n",
        "---\n",
        "\n",
        "This notebook uses the Unity ML-Agents environment for the third project of the [Deep Reinforcement Learning Nanodegree](https://www.udacity.com/course/deep-reinforcement-learning-nanodegree--nd893) program.\n",
        "\n",
        "This notebook is run in a PC with NVidia GTX 1050 Ti, 16GB RAM, i7-7700 CPU.\n",
        "\n",
        "### 1. Start the Environment\n",
        "\n",
        "We begin by importing the necessary packages.  If the code cell below returns an error, please revisit the project instructions to double-check that you have installed [Unity ML-Agents](https://github.com/Unity-Technologies/ml-agents/blob/master/docs/Installation.md) and [NumPy](http://www.numpy.org/)."
      ]
    },
    {
      "cell_type": "code",
      "metadata": {
        "id": "dF3CVuZH6kR0",
        "colab_type": "code",
        "colab": {}
      },
      "source": [
        "from unityagents import UnityEnvironment\n",
        "import numpy as np"
      ],
      "execution_count": 0,
      "outputs": []
    },
    {
      "cell_type": "markdown",
      "metadata": {
        "id": "gKf-GzKK6kR3",
        "colab_type": "text"
      },
      "source": [
        "Next, we will start the environment!  **_Before running the code cell below_**, change the `file_name` parameter to match the location of the Unity environment that you downloaded.\n",
        "\n",
        "- **Mac**: `\"path/to/Tennis.app\"`\n",
        "- **Windows** (x86): `\"path/to/Tennis_Windows_x86/Tennis.exe\"`\n",
        "- **Windows** (x86_64): `\"path/to/Tennis_Windows_x86_64/Tennis.exe\"`\n",
        "- **Linux** (x86): `\"path/to/Tennis_Linux/Tennis.x86\"`\n",
        "- **Linux** (x86_64): `\"path/to/Tennis_Linux/Tennis.x86_64\"`\n",
        "- **Linux** (x86, headless): `\"path/to/Tennis_Linux_NoVis/Tennis.x86\"`\n",
        "- **Linux** (x86_64, headless): `\"path/to/Tennis_Linux_NoVis/Tennis.x86_64\"`\n",
        "\n",
        "For instance, if you are using a Mac, then you downloaded `Tennis.app`.  If this file is in the same folder as the notebook, then the line below should appear as follows:\n",
        "```\n",
        "env = UnityEnvironment(file_name=\"Tennis.app\")\n",
        "```"
      ]
    },
    {
      "cell_type": "code",
      "metadata": {
        "id": "t9-rrkio6kR4",
        "colab_type": "code",
        "outputId": "9bffa4ad-2932-45fd-cef5-b90be45cb9ea",
        "colab": {}
      },
      "source": [
        "env = UnityEnvironment(file_name=\"Tennis_Windows_x86_64/Tennis.exe\")"
      ],
      "execution_count": 0,
      "outputs": [
        {
          "output_type": "stream",
          "text": [
            "INFO:unityagents:\n",
            "'Academy' started successfully!\n",
            "Unity Academy name: Academy\n",
            "        Number of Brains: 1\n",
            "        Number of External Brains : 1\n",
            "        Lesson number : 0\n",
            "        Reset Parameters :\n",
            "\t\t\n",
            "Unity brain name: TennisBrain\n",
            "        Number of Visual Observations (per agent): 0\n",
            "        Vector Observation space type: continuous\n",
            "        Vector Observation space size (per agent): 8\n",
            "        Number of stacked Vector Observation: 3\n",
            "        Vector Action space type: continuous\n",
            "        Vector Action space size (per agent): 2\n",
            "        Vector Action descriptions: , \n"
          ],
          "name": "stderr"
        }
      ]
    },
    {
      "cell_type": "markdown",
      "metadata": {
        "id": "GDjaCc_D6kR-",
        "colab_type": "text"
      },
      "source": [
        "Environments contain **_brains_** which are responsible for deciding the actions of their associated agents. Here we check for the first brain available, and set it as the default brain we will be controlling from Python."
      ]
    },
    {
      "cell_type": "code",
      "metadata": {
        "id": "d6iEhDBT6kR-",
        "colab_type": "code",
        "colab": {}
      },
      "source": [
        "# get the default brain\n",
        "brain_name = env.brain_names[0]\n",
        "brain = env.brains[brain_name]"
      ],
      "execution_count": 0,
      "outputs": []
    },
    {
      "cell_type": "markdown",
      "metadata": {
        "id": "kiDiWgHH6kSB",
        "colab_type": "text"
      },
      "source": [
        "### 2. Examine the State and Action Spaces\n",
        "\n",
        "In this environment, two agents control rackets to bounce a ball over a net. If an agent hits the ball over the net, it receives a reward of +0.1.  If an agent lets a ball hit the ground or hits the ball out of bounds, it receives a reward of -0.01.  Thus, the goal of each agent is to keep the ball in play.\n",
        "\n",
        "The observation space consists of 8 variables corresponding to the position and velocity of the ball and racket. Two continuous actions are available, corresponding to movement toward (or away from) the net, and jumping. \n",
        "\n",
        "Run the code cell below to print some information about the environment."
      ]
    },
    {
      "cell_type": "code",
      "metadata": {
        "id": "ls3H0P4h6kSB",
        "colab_type": "code",
        "outputId": "2dc991bc-18ad-432f-aa75-84d38a918619",
        "colab": {}
      },
      "source": [
        "# reset the environment\n",
        "env_info = env.reset(train_mode=True)[brain_name]\n",
        "\n",
        "# number of agents \n",
        "num_agents = len(env_info.agents)\n",
        "print('Number of agents:', num_agents)\n",
        "\n",
        "# size of each action\n",
        "action_size = brain.vector_action_space_size\n",
        "print('Size of each action:', action_size)\n",
        "\n",
        "# examine the state space \n",
        "states = env_info.vector_observations\n",
        "state_size = states.shape[1]\n",
        "print('There are {} agents. Each observes a state with length: {}'.format(states.shape[0], state_size))\n",
        "print('The state for the first agent looks like:', states[0])"
      ],
      "execution_count": 0,
      "outputs": [
        {
          "output_type": "stream",
          "text": [
            "Number of agents: 2\n",
            "Size of each action: 2\n",
            "There are 2 agents. Each observes a state with length: 24\n",
            "The state for the first agent looks like: [ 0.          0.          0.          0.          0.          0.\n",
            "  0.          0.          0.          0.          0.          0.\n",
            "  0.          0.          0.          0.         -6.65278625 -1.5\n",
            " -0.          0.          6.83172083  6.         -0.          0.        ]\n"
          ],
          "name": "stdout"
        }
      ]
    },
    {
      "cell_type": "markdown",
      "metadata": {
        "id": "-iRjkY5v6kSE",
        "colab_type": "text"
      },
      "source": [
        "### 3. Take Random Actions in the Environment\n",
        "\n",
        "In the next code cell, you will learn how to use the Python API to control the agents and receive feedback from the environment.\n",
        "\n",
        "Once this cell is executed, you will watch the agents' performance, if they select actions at random with each time step.  A window should pop up that allows you to observe the agents.\n",
        "\n",
        "Of course, as part of the project, you'll have to change the code so that the agents are able to use their experiences to gradually choose better actions when interacting with the environment!"
      ]
    },
    {
      "cell_type": "code",
      "metadata": {
        "id": "LnrDmbXp6kSF",
        "colab_type": "code",
        "outputId": "48994d66-a6c8-4900-8ce4-32708c7ff065",
        "colab": {}
      },
      "source": [
        "for i in range(1, 6):                                      # play game for 5 episodes\n",
        "    env_info = env.reset(train_mode=False)[brain_name]     # reset the environment    \n",
        "    states = env_info.vector_observations                  # get the current state (for each agent)\n",
        "    scores = np.zeros(num_agents)                          # initialize the score (for each agent)\n",
        "    while True:\n",
        "        actions = np.random.randn(num_agents, action_size) # select an action (for each agent)\n",
        "        actions = np.clip(actions, -1, 1)                  # all actions between -1 and 1\n",
        "        env_info = env.step(actions)[brain_name]           # send all actions to tne environment\n",
        "        next_states = env_info.vector_observations         # get next state (for each agent)\n",
        "        rewards = env_info.rewards                         # get reward (for each agent)\n",
        "        dones = env_info.local_done                        # see if episode finished\n",
        "        scores += env_info.rewards                         # update the score (for each agent)\n",
        "        states = next_states                               # roll over states to next time step\n",
        "        if np.any(dones):                                  # exit loop if episode finished\n",
        "            break\n",
        "    print('Score (max over agents) from episode {}: {}'.format(i, np.max(scores)))"
      ],
      "execution_count": 0,
      "outputs": [
        {
          "output_type": "stream",
          "text": [
            "Score (max over agents) from episode 1: 0.0\n",
            "Score (max over agents) from episode 2: 0.09000000171363354\n",
            "Score (max over agents) from episode 3: 0.0\n",
            "Score (max over agents) from episode 4: 0.0\n",
            "Score (max over agents) from episode 5: 0.0\n"
          ],
          "name": "stdout"
        }
      ]
    },
    {
      "cell_type": "markdown",
      "metadata": {
        "id": "rRoVnvXa6kSI",
        "colab_type": "text"
      },
      "source": [
        "When finished, you can close the environment."
      ]
    },
    {
      "cell_type": "code",
      "metadata": {
        "id": "qjAlqYrt6kSI",
        "colab_type": "code",
        "colab": {}
      },
      "source": [
        "#env.close()"
      ],
      "execution_count": 0,
      "outputs": []
    },
    {
      "cell_type": "markdown",
      "metadata": {
        "id": "6IPceni06kSN",
        "colab_type": "text"
      },
      "source": [
        "### 4. The experiments\n",
        "\n",
        "Now it's your turn to train your own agent to solve the environment!  When training the environment, set `train_mode=True`, so that the line for resetting the environment looks like the following:\n",
        "```python\n",
        "env_info = env.reset(train_mode=True)[brain_name]\n",
        "```"
      ]
    },
    {
      "cell_type": "markdown",
      "metadata": {
        "id": "Eamdjs7G6kSO",
        "colab_type": "text"
      },
      "source": [
        "#### Importing the necessary libraries to train the agent\n",
        "\n",
        "Please refer to `agent.py` and `model.py` for the agent and model implementation in this notebook."
      ]
    },
    {
      "cell_type": "code",
      "metadata": {
        "id": "thmUxY6A6kSP",
        "colab_type": "code",
        "colab": {}
      },
      "source": [
        "from collections import deque\n",
        "import matplotlib.pyplot as plt\n",
        "from agent import Agent\n",
        "import torch\n",
        "from replay_buffer import ReplayBuffer\n",
        "import random\n",
        "\n",
        "%matplotlib inline"
      ],
      "execution_count": 0,
      "outputs": []
    },
    {
      "cell_type": "markdown",
      "metadata": {
        "id": "WXpFFBYk6kSR",
        "colab_type": "text"
      },
      "source": [
        "#### Setting up the hyperparameters\n",
        "\n",
        "**Model Training**\n",
        "\n",
        "Multi Agent Deep Deterministic Policy Gradiets (DDPG) is used to train the agent. For more information in DDPG algorithm, refer to [this paper](https://arxiv.org/pdf/1509.02971.pdf) and [this paper](https://arxiv.org/pdf/1706.02275.pdf). The agent contains an actor and critic network. The same actor network is used for both agents to select actions. The experience is shared in the same replay buffer. \n",
        "\n",
        "Model architecture is tuned with various hidden layer units as shown in the experiment below.\n",
        "\n",
        "In general, both actor and critic have 3 hidden layers with ReLU activation function. The output layer for actor is activated using tanh activation function."
      ]
    },
    {
      "cell_type": "code",
      "metadata": {
        "id": "IPmQ8EAT6kSR",
        "colab_type": "code",
        "colab": {}
      },
      "source": [
        "BUFFER_SIZE=int(1e5)  # replay buffer size (1e6 in the original paper)\n",
        "BATCH_SIZE=256   #minibatch size (64 in the original paper)\n",
        "GAMMA=0.99     #discount factor\n",
        "TAU=1e-2        #for soft update of target parameters\n",
        "LR_ACTOR=1e-3     #learning rate of the actor\n",
        "LR_CRITIC=1e-3   # learning rate of the critic   \n",
        "WEIGHT_DECAY=0   #L2 weight decay (1e-2 in original paper)\n",
        "RANDOM_SEED=0\n",
        "\n",
        "agent1 = Agent(\n",
        "    state_size=state_size,\n",
        "    action_size=action_size,\n",
        "    buffer_size=BUFFER_SIZE,\n",
        "    batch_size=BATCH_SIZE,    \n",
        "    gamma=GAMMA,           \n",
        "    tau=TAU,\n",
        "    lr_actor=LR_ACTOR,       \n",
        "    lr_critic=LR_CRITIC,        \n",
        "    weight_decay=WEIGHT_DECAY,\n",
        "    random_seed=RANDOM_SEED\n",
        ")\n",
        "\n",
        "agent2 = Agent(\n",
        "    state_size=state_size,\n",
        "    action_size=action_size,\n",
        "    memory=agent1.memory, # Sharing replay memory between ddpg agents. \n",
        "    batch_size=BATCH_SIZE,    \n",
        "    gamma=GAMMA,           \n",
        "    tau=TAU,\n",
        "    lr_actor=LR_ACTOR,       \n",
        "    lr_critic=LR_CRITIC,        \n",
        "    weight_decay=WEIGHT_DECAY,\n",
        "    random_seed=RANDOM_SEED\n",
        ")"
      ],
      "execution_count": 0,
      "outputs": []
    },
    {
      "cell_type": "code",
      "metadata": {
        "id": "1U6SmL946kST",
        "colab_type": "code",
        "outputId": "e758f25e-6c25-49e1-ae15-7169f6877241",
        "colab": {}
      },
      "source": [
        "STOP_NOISE_AFTER_EP=300\n",
        "env_info = env.reset(train_mode=True)[brain_name]\n",
        "def ddpg(n_episodes=1500, print_every=100):\n",
        "    scores_deque = deque(maxlen=print_every)\n",
        "    scores = []\n",
        "    best_score = 0.0\n",
        "    add_noise = True\n",
        "    for i_episode in range(1, n_episodes+1):\n",
        "        if i_episode > STOP_NOISE_AFTER_EP:\n",
        "            add_noise = False\n",
        "        env_info = env.reset(train_mode=True)[brain_name]\n",
        "        states = env_info.vector_observations\n",
        "        agent1.reset()\n",
        "        agent2.reset()\n",
        "        scores_ep = np.zeros(num_agents)\n",
        "        while True:\n",
        "            action1 = agent1.act(states[0], add_noise=add_noise).tolist()\n",
        "            action2 = agent2.act(states[1], add_noise=add_noise).tolist()\n",
        "            actions = [action1, action2]\n",
        "            env_info = env.step(actions)[brain_name]\n",
        "            next_states = env_info.vector_observations\n",
        "            rewards = env_info.rewards\n",
        "            dones = env_info.local_done\n",
        "            agent1.step(states[0], action1, rewards[0], next_states[0], dones[0])\n",
        "            agent2.step(states[1], action2, rewards[1], next_states[1], dones[1])\n",
        "            scores_ep += rewards\n",
        "            states = next_states\n",
        "            if np.any(dones):\n",
        "                break\n",
        "        max_score = np.max(scores_ep)\n",
        "        scores_deque.append(max_score)\n",
        "        scores.append(max_score)\n",
        "        if max_score > best_score:\n",
        "            best_score = max_score\n",
        "        print('\\rEpisode {}\\tAverage Score: {:.2f} best_score {}'.format(i_episode, np.mean(scores_deque), best_score), end=\"\")\n",
        "        torch.save(agent1.actor_local.state_dict(), 'checkpoint_actor1.pth')\n",
        "        torch.save(agent1.critic_local.state_dict(), 'checkpoint_critic1.pth')\n",
        "        torch.save(agent2.actor_local.state_dict(), 'checkpoint_actor2.pth')\n",
        "        torch.save(agent2.critic_local.state_dict(), 'checkpoint_critic2.pth')\n",
        "        if i_episode % print_every == 0:\n",
        "            print('\\rEpisode {}\\tAverage Score: {:.2f}'.format(i_episode, np.mean(scores_deque)))\n",
        "        if np.mean(scores_deque) >= 0.5:\n",
        "            print('\\nEnvironment solved in {:d} episodes!\\tAverage Score: {:.2f}'.format(i_episode, np.mean(scores_deque)))\n",
        "            torch.save(agent1.actor_local.state_dict(), 'checkpoint_actor1.pth')\n",
        "            torch.save(agent1.critic_local.state_dict(), 'checkpoint_critic1.pth')\n",
        "            torch.save(agent2.actor_local.state_dict(), 'checkpoint_actor2.pth')\n",
        "            torch.save(agent2.critic_local.state_dict(), 'checkpoint_critic2.pth')\n",
        "            break\n",
        "    return scores\n",
        "\n",
        "scores = ddpg()\n",
        "\n",
        "fig = plt.figure()\n",
        "ax = fig.add_subplot(111)\n",
        "plt.plot(np.arange(1, len(scores)+1), scores)\n",
        "plt.ylabel('Score')\n",
        "plt.xlabel('Episode #')\n",
        "plt.show()"
      ],
      "execution_count": 0,
      "outputs": [
        {
          "output_type": "stream",
          "text": [
            "Episode 100\tAverage Score: 0.00 best_score 0.10000000149011612\n",
            "Episode 200\tAverage Score: 0.00 best_score 0.10000000149011612\n",
            "Episode 300\tAverage Score: 0.03 best_score 0.10000000149011612\n",
            "Episode 400\tAverage Score: 0.30 best_score 2.20000003278255466\n",
            "Episode 424\tAverage Score: 0.52 best_score 2.6000000387430196\n",
            "Environment solved in 424 episodes!\tAverage Score: 0.52\n"
          ],
          "name": "stdout"
        },
        {
          "output_type": "display_data",
          "data": {
            "image/png": "[encoded data removed]",
            "text/plain": [
              "<Figure size 432x288 with 1 Axes>"
            ]
          },
          "metadata": {
            "tags": [],
            "needs_background": "light"
          }
        }
      ]
    },
    {
      "cell_type": "code",
      "metadata": {
        "id": "YbcgqwG36kSV",
        "colab_type": "code",
        "outputId": "6406b816-3b82-4429-849f-02c1249b74ec",
        "colab": {}
      },
      "source": [
        "for i in range(1, 6):                                      # play game for 5 episodes\n",
        "    env_info = env.reset(train_mode=False)[brain_name]     # reset the environment    \n",
        "    states = env_info.vector_observations                  # get the current state (for each agent)\n",
        "    scores = np.zeros(num_agents)                          # initialize the score (for each agent)\n",
        "    while True:\n",
        "        action1 = agent1.act(states[0], add_noise=False).tolist()\n",
        "        action2 = agent2.act(states[1], add_noise=False).tolist()\n",
        "        actions = [action1, action2]\n",
        "        env_info = env.step(actions)[brain_name]           # send all actions to tne environment\n",
        "        next_states = env_info.vector_observations         # get next state (for each agent)\n",
        "        rewards = env_info.rewards                         # get reward (for each agent)\n",
        "        dones = env_info.local_done                        # see if episode finished\n",
        "        scores += env_info.rewards                         # update the score (for each agent)\n",
        "        states = next_states                               # roll over states to next time step\n",
        "        if np.any(dones):                                  # exit loop if episode finished\n",
        "            break\n",
        "    print('Score (max over agents) from episode {}: {}'.format(i, np.max(scores)))"
      ],
      "execution_count": 0,
      "outputs": [
        {
          "output_type": "stream",
          "text": [
            "Score (max over agents) from episode 1: 2.600000038743019\n",
            "Score (max over agents) from episode 2: 2.7000000402331352\n",
            "Score (max over agents) from episode 3: 2.600000038743019\n",
            "Score (max over agents) from episode 4: 2.7000000402331352\n",
            "Score (max over agents) from episode 5: 2.600000038743019\n"
          ],
          "name": "stdout"
        }
      ]
    },
    {
      "cell_type": "code",
      "metadata": {
        "id": "9j2YruH66kSX",
        "colab_type": "code",
        "colab": {}
      },
      "source": [
        "env.close()"
      ],
      "execution_count": 0,
      "outputs": []
    },
    {
      "cell_type": "markdown",
      "metadata": {
        "id": "MEVoN7hc6kSZ",
        "colab_type": "text"
      },
      "source": [
        "**EXPERIMENT 1**\n",
        "\n",
        "MODEL :<br/>\n",
        "Actor- FC1 units (400), FC2 units (300) <br/>\n",
        "Critic - FC1 units (256), FC2 units (128) <br/>\n",
        "No dropout layer added <br/>\n",
        "Optimizer: Adam\n",
        "\n",
        "AGENT: <br/>\n",
        "BUFFER_SIZE=int(1e6) <br/>\n",
        "BATCH_SIZE=512 <br/>    \n",
        "TAU=1e-2 <br/>\n",
        "LR_ACTOR=1e-3 <br/>    \n",
        "LR_CRITIC=1e-3 <br/>      \n",
        "\n",
        "RESULTS: <br/>\n",
        "Environment solved in 587 episodes with average score of 0.51.\n",
        "\n",
        "<img src= \"tennis_1.png\">\n"
      ]
    },
    {
      "cell_type": "markdown",
      "metadata": {
        "id": "3jXg6WAW6kSa",
        "colab_type": "text"
      },
      "source": [
        "**EXPERIMENT 2**\n",
        "\n",
        "MODEL :<br/>\n",
        "Actor- FC1 units (256), FC2 units (128) <br/>\n",
        "Critic - FC1 units (256), FC2 units (128) <br/>\n",
        "Dropout with probability 0.2 for each layer <br/>\n",
        "Optimizer: Rectified Adam\n",
        "\n",
        "AGENT: <br/>\n",
        "BUFFER_SIZE=int(1e6) <br/>\n",
        "BATCH_SIZE=256 <br/>    \n",
        "TAU=1e-2 <br/>\n",
        "LR_ACTOR=1e-3 <br/>    \n",
        "LR_CRITIC=1e-3 <br/>      \n",
        "\n",
        "RESULTS: <br/>\n",
        "Environment solved in 450 episodes with average score of 0.5.\n",
        "\n",
        "<img src= \"tennis_2.png\">"
      ]
    },
    {
      "cell_type": "markdown",
      "metadata": {
        "id": "v1OjZVmc6kSc",
        "colab_type": "text"
      },
      "source": [
        "**EXPERIMENT 3**\n",
        "\n",
        "MODEL :<br/>\n",
        "Actor- FC1 units (400), FC2 units (300) <br/>\n",
        "Critic - FC1 units (256), FC2 units (128) <br/>\n",
        "No dropout layer added <br/>\n",
        "Optimizer: Rectified Adam\n",
        "\n",
        "AGENT: <br/>\n",
        "BUFFER_SIZE=int(1e6) <br/>\n",
        "BATCH_SIZE=512 <br/>    \n",
        "TAU=1e-2 <br/>\n",
        "LR_ACTOR=1e-3 <br/>    \n",
        "LR_CRITIC=1e-3 <br/>      \n",
        "\n",
        "RESULTS: <br/>\n",
        "Environment solved in 546 episodes with average score of 0.51.\n",
        "\n",
        "<img src= \"tennis_3.png\">"
      ]
    },
    {
      "cell_type": "markdown",
      "metadata": {
        "id": "JRaOTlCS6kSe",
        "colab_type": "text"
      },
      "source": [
        "**EXPERIMENT 4**\n",
        "\n",
        "MODEL :<br/>\n",
        "Actor- FC1 units (256), FC2 units (128) <br/>\n",
        "Critic - FC1 units (256), FC2 units (128) <br/>\n",
        "Dropout for each layer with probability of 0.2 <br/>\n",
        "Optimizer: Rectified Adam\n",
        "\n",
        "AGENT: <br/>\n",
        "BUFFER_SIZE=int(1e5) <br/>\n",
        "BATCH_SIZE=256 <br/>    \n",
        "TAU=1e-2 <br/>\n",
        "LR_ACTOR=1e-3 <br/>    \n",
        "LR_CRITIC=1e-3 <br/>      \n",
        "\n",
        "RESULTS: <br/>\n",
        "Environment solved in 596 episodes with average score of 0.51.\n",
        "\n",
        "<img src= \"tennis_4.png\">"
      ]
    },
    {
      "cell_type": "markdown",
      "metadata": {
        "id": "LOV4Ym0E6kSf",
        "colab_type": "text"
      },
      "source": [
        "**EXPERIMENT 5**\n",
        "\n",
        "MODEL :<br/>\n",
        "Actor- FC1 units (400), FC2 units (300) <br/>\n",
        "Critic - FC1 units (256), FC2 units (128) <br/>\n",
        "Dropout for each layer with probability of 0.2 <br/>\n",
        "Optimizer: Rectified Adam\n",
        "\n",
        "AGENT: <br/>\n",
        "BUFFER_SIZE=int(1e6) <br/>\n",
        "BATCH_SIZE=512 <br/>    \n",
        "TAU=1e-2 <br/>\n",
        "LR_ACTOR=1e-3 <br/>    \n",
        "LR_CRITIC=1e-3 <br/>      \n",
        "\n",
        "RESULTS: <br/>\n",
        "Environment solved in 587 episodes with average score of 0.50.\n",
        "\n",
        "<img src= \"tennis_5.png\">"
      ]
    },
    {
      "cell_type": "markdown",
      "metadata": {
        "id": "ThhKf4RN6kSg",
        "colab_type": "text"
      },
      "source": [
        "**EXPERIMENT 6**\n",
        "\n",
        "MODEL :<br/>\n",
        "Actor- FC1 units (256), FC2 units (128) <br/>\n",
        "Critic - FC1 units (256), FC2 units (128) <br/>\n",
        "Dropout for each layer with probability of 0.25 <br/>\n",
        "Optimizer: Rectified Adam \n",
        "\n",
        "AGENT: <br/>\n",
        "BUFFER_SIZE=int(1e5) <br/>\n",
        "BATCH_SIZE=256 <br/>    \n",
        "TAU=1e-2 <br/>\n",
        "LR_ACTOR=1e-3 <br/>    \n",
        "LR_CRITIC=1e-3 <br/>      \n",
        "\n",
        "RESULTS: <br/>\n",
        "Environment solved in 424 episodes with average score of 0.52.\n",
        "\n",
        "<img src= \"tennis_6.png\">"
      ]
    },
    {
      "cell_type": "markdown",
      "metadata": {
        "id": "8YGLjCw_6kSg",
        "colab_type": "text"
      },
      "source": [
        "**EXPERIMENT 6**\n",
        "\n",
        "MODEL :<br/>\n",
        "Actor- FC1 units (256), FC2 units (128) <br/>\n",
        "Critic - FC1 units (256), FC2 units (128) <br/>\n",
        "Dropout for each layer with probability of 0.25 <br/>\n",
        "Optimizer: Adam \n",
        "\n",
        "AGENT: <br/>\n",
        "BUFFER_SIZE=int(1e5) <br/>\n",
        "BATCH_SIZE=256 <br/>    \n",
        "TAU=1e-2 <br/>\n",
        "LR_ACTOR=1e-3 <br/>    \n",
        "LR_CRITIC=1e-3 <br/>      \n",
        "\n",
        "RESULTS: <br/>\n",
        "Environment solved in 536 episodes with average score of 0.50.\n",
        "\n",
        "<img src= \"tennis_7.png\">"
      ]
    },
    {
      "cell_type": "markdown",
      "metadata": {
        "id": "-EkFksV89QTU",
        "colab_type": "text"
      },
      "source": [
        "**Conclusion**\n",
        "\n",
        "1. Models are built based on DDPG architecture. Both actor and critic networks have 3 fully connected layers. The networks architecture is changed with the amount of units in each layer, added the dropout for each layer. The first two layers in actor and critic used ReLU as activation function and the final layer used tanh.\n",
        "2. Different hyperparameters are set to get the lowest episodes needed to solve the environment.\n",
        "3. I have also tested the new optimizer, the Rectified Adam in this experiment, and the environment is solved in lower episodes compared to by using Adam.\n",
        "4. Noise is added using an Ornstein-Uhlenbeck process (as recommended in the paper) where theta and sigma were set as 0.15 and 0.2, respectively.\n",
        "5. Two agents share a replay buffer so that their experience is combined with training."
      ]
    },
    {
      "cell_type": "markdown",
      "metadata": {
        "id": "1TdNmRBT6kSh",
        "colab_type": "text"
      },
      "source": [
        "**Future Works**\n",
        "\n",
        "Try to implement by using Proximal Policy Optimization (PPO) and Distributed Distributional Deterministic Policy Gradients (D4PG) instead of DDPG.\n"
      ]
    },
    {
      "cell_type": "code",
      "metadata": {
        "id": "AhDb62Yf6kSh",
        "colab_type": "code",
        "colab": {}
      },
      "source": [
        ""
      ],
      "execution_count": 0,
      "outputs": []
    }
  ]
}